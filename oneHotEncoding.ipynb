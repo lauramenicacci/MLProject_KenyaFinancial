{
 "cells": [
  {
   "cell_type": "code",
   "execution_count": 1,
   "metadata": {
    "executionInfo": {
     "elapsed": 2749,
     "status": "ok",
     "timestamp": 1649682456380,
     "user": {
      "displayName": "Krishnamoorthy Manohara",
      "userId": "17853464232554467961"
     },
     "user_tz": -120
    },
    "id": "7lU4UHlnyfaw"
   },
   "outputs": [],
   "source": [
    "import numpy as np\n",
    "import pandas as pd\n",
    "import matplotlib.pyplot as plt\n",
    "from stop_words import get_stop_words\n",
    "#from sklearn import tree\n",
    "import os\n",
    "from datetime import datetime\n",
    "import pickle"
   ]
  },
  {
   "cell_type": "code",
   "execution_count": 2,
   "metadata": {
    "colab": {
     "base_uri": "https://localhost:8080/",
     "height": 70
    },
    "executionInfo": {
     "elapsed": 1755,
     "status": "ok",
     "timestamp": 1649682458920,
     "user": {
      "displayName": "Krishnamoorthy Manohara",
      "userId": "17853464232554467961"
     },
     "user_tz": -120
    },
    "id": "iJtXamhh0oAD",
    "outputId": "83274bf2-133e-45ca-d252-180a94f39365"
   },
   "outputs": [
    {
     "name": "stdout",
     "output_type": "stream",
     "text": [
      "G:\\My Drive\\MLProject_KenyaFinancial\n"
     ]
    },
    {
     "data": {
      "text/plain": [
       "'G:\\\\My Drive\\\\MLProject_KenyaFinancial'"
      ]
     },
     "execution_count": 2,
     "metadata": {},
     "output_type": "execute_result"
    }
   ],
   "source": [
    "#from google.colab import drive\n",
    "#drive.mount('/content/drive')\n",
    "#%cd /content/drive/MyDrive/MLProject_KenyaFinancial\n",
    "%cd G:\\My Drive/MLProject_KenyaFinancial\n",
    "DATA_PATH = \"G:\\My Drive\\MLProject_KenyaFinancial\\clean_data\\official.csv\" #replace with your data path\n",
    "os.getcwd()"
   ]
  },
  {
   "cell_type": "code",
   "execution_count": 3,
   "metadata": {
    "colab": {
     "base_uri": "https://localhost:8080/"
    },
    "executionInfo": {
     "elapsed": 24740,
     "status": "ok",
     "timestamp": 1649682506327,
     "user": {
      "displayName": "Krishnamoorthy Manohara",
      "userId": "17853464232554467961"
     },
     "user_tz": -120
    },
    "id": "ukPYosaj02WC",
    "outputId": "b13f63e0-5edb-4adc-e150-243a8dd85afc"
   },
   "outputs": [],
   "source": [
    "data = pd.read_csv(DATA_PATH)"
   ]
  },
  {
   "cell_type": "code",
   "execution_count": 5,
   "metadata": {
    "colab": {
     "base_uri": "https://localhost:8080/",
     "height": 317
    },
    "executionInfo": {
     "elapsed": 254,
     "status": "ok",
     "timestamp": 1649682508727,
     "user": {
      "displayName": "Krishnamoorthy Manohara",
      "userId": "17853464232554467961"
     },
     "user_tz": -120
    },
    "id": "jG9TtKLv06vR",
    "outputId": "fcf57686-4d66-42b7-a60e-72a8c12d4633"
   },
   "outputs": [
    {
     "data": {
      "text/plain": [
       "(722068, 165)"
      ]
     },
     "execution_count": 5,
     "metadata": {},
     "output_type": "execute_result"
    }
   ],
   "source": [
    "data.shape"
   ]
  },
  {
   "cell_type": "code",
   "execution_count": 6,
   "metadata": {
    "executionInfo": {
     "elapsed": 1225,
     "status": "ok",
     "timestamp": 1649682517914,
     "user": {
      "displayName": "Krishnamoorthy Manohara",
      "userId": "17853464232554467961"
     },
     "user_tz": -120
    },
    "id": "N7NuBTQ55QBf"
   },
   "outputs": [],
   "source": [
    "dataX = data.drop(['trx_mode_desc'], axis = 1)"
   ]
  },
  {
   "cell_type": "code",
   "execution_count": 7,
   "metadata": {
    "executionInfo": {
     "elapsed": 209,
     "status": "ok",
     "timestamp": 1649682523906,
     "user": {
      "displayName": "Krishnamoorthy Manohara",
      "userId": "17853464232554467961"
     },
     "user_tz": -120
    },
    "id": "IzN9VOyT51BH"
   },
   "outputs": [],
   "source": [
    "X = dataX.loc[:,:]"
   ]
  },
  {
   "cell_type": "code",
   "execution_count": 8,
   "metadata": {
    "colab": {
     "base_uri": "https://localhost:8080/"
    },
    "executionInfo": {
     "elapsed": 234,
     "status": "ok",
     "timestamp": 1649680392349,
     "user": {
      "displayName": "Krishnamoorthy Manohara",
      "userId": "17853464232554467961"
     },
     "user_tz": -120
    },
    "id": "ePkVg89L56P4",
    "outputId": "468ef04e-61ff-46d2-973f-5b8d1a4c1154"
   },
   "outputs": [
    {
     "data": {
      "text/plain": [
       "Index(['hh_ids', 'account_ids', 'm_ids_owner', 'first_trx_date_acc',\n",
       "       'last_trx_date_acc', 'trx_id', 'm_ids_trx', 'trx_date', 'trx_month',\n",
       "       'trx_year',\n",
       "       ...\n",
       "       'dem_i_hhead', 'dem_i_marstat', 'dem_i_tribe', 'dem_i_children_tot',\n",
       "       'dem_i_children_inhh', 'edu_i_enrolled', 'edu_i_attain',\n",
       "       'edu_i_attain_yrs', 'trx_outlet1', 'trx_purpose1'],\n",
       "      dtype='object', length=164)"
      ]
     },
     "execution_count": 8,
     "metadata": {},
     "output_type": "execute_result"
    }
   ],
   "source": [
    "X.columns"
   ]
  },
  {
   "cell_type": "code",
   "execution_count": 9,
   "metadata": {
    "executionInfo": {
     "elapsed": 233,
     "status": "ok",
     "timestamp": 1649680413301,
     "user": {
      "displayName": "Krishnamoorthy Manohara",
      "userId": "17853464232554467961"
     },
     "user_tz": -120
    },
    "id": "96ZY0c9U6AUZ"
   },
   "outputs": [],
   "source": [
    "Y = data.trx_mode_desc"
   ]
  },
  {
   "cell_type": "code",
   "execution_count": 10,
   "metadata": {
    "executionInfo": {
     "elapsed": 13804,
     "status": "ok",
     "timestamp": 1649682541341,
     "user": {
      "displayName": "Krishnamoorthy Manohara",
      "userId": "17853464232554467961"
     },
     "user_tz": -120
    },
    "id": "84uauuUACIUl"
   },
   "outputs": [],
   "source": [
    "for column in X.columns:\n",
    "  if X[column].dtype == \"object\":\n",
    "    X[column] = X[column].astype(\"|S\")"
   ]
  },
  {
   "cell_type": "code",
   "execution_count": 13,
   "metadata": {
    "executionInfo": {
     "elapsed": 9767,
     "status": "ok",
     "timestamp": 1649682553511,
     "user": {
      "displayName": "Krishnamoorthy Manohara",
      "userId": "17853464232554467961"
     },
     "user_tz": -120
    },
    "id": "vp9qeZ9ITKJv"
   },
   "outputs": [],
   "source": [
    "dropCols = []\n",
    "for column in X.columns:\n",
    "  if X[column].nunique() > 150 or X[column].dtype == 'float64':\n",
    "    dropCols.append(column)\n",
    "X = X.drop(dropCols, axis=1)"
   ]
  },
  {
   "cell_type": "code",
   "execution_count": 14,
   "metadata": {
    "colab": {
     "base_uri": "https://localhost:8080/"
    },
    "executionInfo": {
     "elapsed": 6,
     "status": "ok",
     "timestamp": 1649682562211,
     "user": {
      "displayName": "Krishnamoorthy Manohara",
      "userId": "17853464232554467961"
     },
     "user_tz": -120
    },
    "id": "tqcoOeOavikZ",
    "outputId": "18451e1f-1569-45d0-a5f8-c78fe4d685e1"
   },
   "outputs": [
    {
     "data": {
      "text/plain": [
       "['hh_ids',\n",
       " 'account_ids',\n",
       " 'm_ids_owner',\n",
       " 'first_trx_date_acc',\n",
       " 'last_trx_date_acc',\n",
       " 'trx_id',\n",
       " 'm_ids_trx',\n",
       " 'trx_date',\n",
       " 'trx_month',\n",
       " 'trx_year',\n",
       " 'trx_dq_round',\n",
       " 'trx_type_code',\n",
       " 'trx_value_usd',\n",
       " 'ddd_gift',\n",
       " 'trx_stdtime_mnths_hh_nr',\n",
       " 'dem_urban',\n",
       " 'dem_hh_size',\n",
       " 'dem_hh_meanage',\n",
       " 'dem_hh_ages0_4',\n",
       " 'dem_hh_ages5_14',\n",
       " 'dem_hh_ages15_17',\n",
       " 'dem_hh_ages0_17',\n",
       " 'dem_hh_ages15plus',\n",
       " 'dem_hh_ages18plus',\n",
       " 'dem_hh_ages65plus',\n",
       " 'dem_hh_ages20_30',\n",
       " 'dem_hh_workage',\n",
       " 'dem_hh_dependents',\n",
       " 'dem_hh_agehead',\n",
       " 'dem_hh_malehead',\n",
       " 'dem_pae_oecd',\n",
       " 'dem_pae_kihbs',\n",
       " 'con_prod_hh_medpti',\n",
       " 'edu_hh_child613inschool',\n",
       " 'edu_hh_child1417inschool',\n",
       " 'edu_hh_girls613inschool',\n",
       " 'edu_hh_girls1417inschool',\n",
       " 'edu_hh_boys613inschool',\n",
       " 'edu_hh_boys1417inschool',\n",
       " 'edu_hh_headattain_yrs',\n",
       " 'con_pur_hh_byti_x',\n",
       " 'con_pur_hh_byti_ALC',\n",
       " 'con_pur_hh_byti_CLN',\n",
       " 'con_pur_hh_byti_CLTH',\n",
       " 'con_pur_hh_byti_COMM',\n",
       " 'con_pur_hh_byti_EDU',\n",
       " 'con_pur_hh_byti_ENRGY',\n",
       " 'con_pur_hh_byti_ENT',\n",
       " 'con_pur_hh_byti_FOOD',\n",
       " 'con_pur_hh_byti_H20',\n",
       " 'con_pur_hh_byti_HSNG',\n",
       " 'con_pur_hh_byti_MED',\n",
       " 'con_pur_hh_byti_OTH',\n",
       " 'con_pur_hh_byti_PERS',\n",
       " 'con_pur_hh_byti_REL',\n",
       " 'con_pur_hh_byti_TRNSP',\n",
       " 'inc_hh_byti_x',\n",
       " 'inc_hh_byti_AGRI',\n",
       " 'inc_hh_byti_CITMPC',\n",
       " 'inc_hh_byti_NEINCG',\n",
       " 'inc_hh_byti_REI',\n",
       " 'inc_hh_byti_RIOI',\n",
       " 'inc_hh_byti_RR',\n",
       " 'inc_hh_byti_SEI',\n",
       " 'inc_hh_byti_y',\n",
       " 'con_pur_hh_byti_y',\n",
       " 'con_prod_hh_byti_x',\n",
       " 'dem_urban_x',\n",
       " 'dem_hh_size_x',\n",
       " 'dem_pae_oecd_x',\n",
       " 'dem_pae_kihbs_x',\n",
       " 'con_hh_byti_x',\n",
       " 'inc_hh_byti_pae_oecd_x',\n",
       " 'con_hh_byti_pae_oecd_x',\n",
       " 'inc_hh_byti_pae_kihbs_x',\n",
       " 'con_hh_byti_pae_kihbs_x',\n",
       " 'inc_below_1_usd_oecd_x',\n",
       " 'con_below_1_usd_oecd_x',\n",
       " 'inc_below_1_usd_kihbs_x',\n",
       " 'con_below_1_usd_kihbs_x',\n",
       " 'inc_below_2_usd_oecd_x',\n",
       " 'con_below_2_usd_oecd_x',\n",
       " 'inc_below_2_usd_kihbs_x',\n",
       " 'con_below_2_usd_kihbs_x',\n",
       " 'inc_below_5_usd_oecd_x',\n",
       " 'con_below_5_usd_oecd_x',\n",
       " 'inc_below_5_usd_kihbs_x',\n",
       " 'con_below_5_usd_kihbs_x',\n",
       " 'inc_hh_byti',\n",
       " 'con_pur_hh_byti',\n",
       " 'con_prod_hh_byti_y',\n",
       " 'dem_urban_y',\n",
       " 'dem_hh_size_y',\n",
       " 'dem_pae_oecd_y',\n",
       " 'dem_pae_kihbs_y',\n",
       " 'con_hh_byti_y',\n",
       " 'inc_hh_byti_pae_oecd_y',\n",
       " 'con_hh_byti_pae_oecd_y',\n",
       " 'inc_hh_byti_pae_kihbs_y',\n",
       " 'con_hh_byti_pae_kihbs_y',\n",
       " 'inc_below_1_usd_oecd_y',\n",
       " 'con_below_1_usd_oecd_y',\n",
       " 'inc_below_1_usd_kihbs_y',\n",
       " 'con_below_1_usd_kihbs_y',\n",
       " 'inc_below_2_usd_oecd_y',\n",
       " 'con_below_2_usd_oecd_y',\n",
       " 'inc_below_2_usd_kihbs_y',\n",
       " 'con_below_2_usd_kihbs_y',\n",
       " 'inc_below_5_usd_oecd_y',\n",
       " 'con_below_5_usd_oecd_y',\n",
       " 'inc_below_5_usd_kihbs_y',\n",
       " 'con_below_5_usd_kihbs_y',\n",
       " 'rem_hh_count_byti',\n",
       " 'rem_hh_abs_byti',\n",
       " 'rem_hh_net_byti',\n",
       " 'rem_hh_count_byti_RG',\n",
       " 'rem_hh_abs_byti_RG',\n",
       " 'rem_hh_count_byti_RR',\n",
       " 'rem_hh_abs_byti_RR',\n",
       " 'rem_hh_count_byti_cash',\n",
       " 'rem_hh_abs_byti_cash',\n",
       " 'rem_hh_net_byti_cash',\n",
       " 'rem_hh_count_byti_inkind',\n",
       " 'rem_hh_abs_byti_inkind',\n",
       " 'rem_hh_net_byti_inkind',\n",
       " 'rem_hh_count_byti_mm',\n",
       " 'rem_hh_abs_byti_mm',\n",
       " 'rem_hh_net_byti_mm',\n",
       " 'rem_hh_count_byti_other',\n",
       " 'rem_hh_abs_byti_other',\n",
       " 'rem_hh_net_byti_other',\n",
       " 'm_ids_x',\n",
       " 'm_ids_y',\n",
       " 'dem_i_age_yrs',\n",
       " 'dem_i_age_workage',\n",
       " 'dem_i_hhead',\n",
       " 'dem_i_children_tot',\n",
       " 'dem_i_children_inhh',\n",
       " 'edu_i_enrolled',\n",
       " 'edu_i_attain_yrs']"
      ]
     },
     "execution_count": 14,
     "metadata": {},
     "output_type": "execute_result"
    }
   ],
   "source": [
    "dropCols"
   ]
  },
  {
   "cell_type": "code",
   "execution_count": 16,
   "metadata": {
    "executionInfo": {
     "elapsed": 41685,
     "status": "ok",
     "timestamp": 1649681356960,
     "user": {
      "displayName": "Krishnamoorthy Manohara",
      "userId": "17853464232554467961"
     },
     "user_tz": -120
    },
    "id": "YbFQPzb99GHl"
   },
   "outputs": [],
   "source": [
    "#Skip and load X with pickle in later cell\n",
    "\n",
    "from sklearn.preprocessing import OneHotEncoder\n",
    "\n",
    "ohc = OneHotEncoder(handle_unknown='ignore', drop='if_binary')\n",
    "\n",
    "X = ohc.fit_transform(X)"
   ]
  },
  {
   "cell_type": "code",
   "execution_count": 17,
   "metadata": {
    "colab": {
     "base_uri": "https://localhost:8080/"
    },
    "executionInfo": {
     "elapsed": 237,
     "status": "ok",
     "timestamp": 1649681378765,
     "user": {
      "displayName": "Krishnamoorthy Manohara",
      "userId": "17853464232554467961"
     },
     "user_tz": -120
    },
    "id": "7vCA9eSD-qQ_",
    "outputId": "854802b3-8bdf-452d-c0cf-cd1e495828ce"
   },
   "outputs": [
    {
     "data": {
      "text/plain": [
       "(722068, 362)"
      ]
     },
     "execution_count": 17,
     "metadata": {},
     "output_type": "execute_result"
    }
   ],
   "source": [
    "X.shape"
   ]
  },
  {
   "cell_type": "code",
   "execution_count": 70,
   "metadata": {
    "executionInfo": {
     "elapsed": 9678,
     "status": "ok",
     "timestamp": 1649681798200,
     "user": {
      "displayName": "Krishnamoorthy Manohara",
      "userId": "17853464232554467961"
     },
     "user_tz": -120
    },
    "id": "ORsPTrYirHGG"
   },
   "outputs": [],
   "source": [
    "with open(\"Xpkl_new1\", 'wb') as ofile:\n",
    "  pickle.dump(X, ofile)\n"
   ]
  },
  {
   "cell_type": "code",
   "execution_count": 11,
   "metadata": {
    "executionInfo": {
     "elapsed": 6254,
     "status": "ok",
     "timestamp": 1649682582225,
     "user": {
      "displayName": "Krishnamoorthy Manohara",
      "userId": "17853464232554467961"
     },
     "user_tz": -120
    },
    "id": "VM7Y-4cps0MA"
   },
   "outputs": [],
   "source": [
    "####################################### LOADING X\n",
    "with open(\"Xpkl\", 'rb') as ifile:\n",
    "  X = pickle.load(ifile)"
   ]
  },
  {
   "cell_type": "code",
   "execution_count": 18,
   "metadata": {
    "id": "1yHzChQ-YeNg"
   },
   "outputs": [],
   "source": [
    "############################### Program is crashing here itself due to lack of ram\n",
    "xdf = pd.DataFrame(X.toarray())\n",
    "#xdf.to_csv(\"X.csv\")"
   ]
  },
  {
   "cell_type": "code",
   "execution_count": 19,
   "metadata": {},
   "outputs": [],
   "source": [
    "xdf.columns = ohc.get_feature_names_out()"
   ]
  },
  {
   "cell_type": "code",
   "execution_count": 21,
   "metadata": {
    "executionInfo": {
     "elapsed": 448,
     "status": "ok",
     "timestamp": 1649680643036,
     "user": {
      "displayName": "Krishnamoorthy Manohara",
      "userId": "17853464232554467961"
     },
     "user_tz": -120
    },
    "id": "ciKjwqNRn0rU"
   },
   "outputs": [
    {
     "name": "stderr",
     "output_type": "stream",
     "text": [
      "C:\\Users\\krish\\AppData\\Local\\Temp/ipykernel_15304/2936279118.py:3: PerformanceWarning: DataFrame is highly fragmented.  This is usually the result of calling `frame.insert` many times, which has poor performance.  Consider joining all columns at once using pd.concat(axis=1) instead.  To get a de-fragmented frame, use `newframe = frame.copy()`\n",
      "  xdf[col] = dataX[col]\n"
     ]
    }
   ],
   "source": [
    "############################## Adding numeric columns back to X\n",
    "for col in dropCols:\n",
    "  xdf[col] = dataX[col]"
   ]
  },
  {
   "cell_type": "code",
   "execution_count": 23,
   "metadata": {},
   "outputs": [],
   "source": [
    "DC = [\"first_trx_date_acc\", \"last_trx_date_acc\", \"trx_date\"]\n",
    "first_trx_date_acc_f = []\n",
    "last_trx_date_acc_f = []\n",
    "trx_date_f = []\n",
    "\n",
    "i = 0\n",
    "for dc in DC:\n",
    "    \n",
    "    L = []\n",
    "        \n",
    "    for d in xdf[dc]:\n",
    "        try:\n",
    "            dat = datetime.strptime(d.decode('UTF-8'), \"%d%b%Y\")\n",
    "            f = dat.timestamp()\n",
    "            L.append(f)\n",
    "        except:\n",
    "            L.append(np.nan)\n",
    "    \n",
    "    if i == 0:\n",
    "        first_trx_date_acc_f = L\n",
    "    if i == 1:\n",
    "        last_trx_date_acc_f = L\n",
    "    if i == 2:\n",
    "        trx_date_f = L\n",
    "        \n",
    "    i += 1"
   ]
  },
  {
   "cell_type": "code",
   "execution_count": 24,
   "metadata": {},
   "outputs": [
    {
     "name": "stderr",
     "output_type": "stream",
     "text": [
      "C:\\Users\\krish\\AppData\\Local\\Temp/ipykernel_15304/795257833.py:1: PerformanceWarning: DataFrame is highly fragmented.  This is usually the result of calling `frame.insert` many times, which has poor performance.  Consider joining all columns at once using pd.concat(axis=1) instead.  To get a de-fragmented frame, use `newframe = frame.copy()`\n",
      "  xdf['first_trx_date_acc_f'] = first_trx_date_acc_f\n",
      "C:\\Users\\krish\\AppData\\Local\\Temp/ipykernel_15304/795257833.py:2: PerformanceWarning: DataFrame is highly fragmented.  This is usually the result of calling `frame.insert` many times, which has poor performance.  Consider joining all columns at once using pd.concat(axis=1) instead.  To get a de-fragmented frame, use `newframe = frame.copy()`\n",
      "  xdf[\"last_trx_date_acc_f\"] = last_trx_date_acc_f\n",
      "C:\\Users\\krish\\AppData\\Local\\Temp/ipykernel_15304/795257833.py:3: PerformanceWarning: DataFrame is highly fragmented.  This is usually the result of calling `frame.insert` many times, which has poor performance.  Consider joining all columns at once using pd.concat(axis=1) instead.  To get a de-fragmented frame, use `newframe = frame.copy()`\n",
      "  xdf[\"trx_date_f\"] = trx_date_f\n"
     ]
    }
   ],
   "source": [
    "xdf['first_trx_date_acc_f'] = first_trx_date_acc_f\n",
    "xdf[\"last_trx_date_acc_f\"] = last_trx_date_acc_f\n",
    "xdf[\"trx_date_f\"] = trx_date_f"
   ]
  },
  {
   "cell_type": "code",
   "execution_count": 25,
   "metadata": {},
   "outputs": [],
   "source": [
    "Xd = xdf.drop(DC, axis = 1)"
   ]
  },
  {
   "cell_type": "code",
   "execution_count": 26,
   "metadata": {},
   "outputs": [
    {
     "name": "stdout",
     "output_type": "stream",
     "text": [
      "hh_ids\n",
      "account_ids\n",
      "m_ids_owner\n",
      "m_ids_trx\n"
     ]
    }
   ],
   "source": [
    "dropCol2 = []\n",
    "for col in Xd.columns:\n",
    "    if Xd[col].dtype != \"float64\":\n",
    "        dropCol2.append(col)\n",
    "        print(col)"
   ]
  },
  {
   "cell_type": "code",
   "execution_count": 36,
   "metadata": {},
   "outputs": [
    {
     "ename": "KeyError",
     "evalue": "\"['hh_ids' 'account_ids' 'm_ids_owner' 'm_ids_trx'] not found in axis\"",
     "output_type": "error",
     "traceback": [
      "\u001b[1;31m---------------------------------------------------------------------------\u001b[0m",
      "\u001b[1;31mKeyError\u001b[0m                                  Traceback (most recent call last)",
      "\u001b[1;32m~\\AppData\\Local\\Temp/ipykernel_15304/1241540956.py\u001b[0m in \u001b[0;36m<module>\u001b[1;34m\u001b[0m\n\u001b[1;32m----> 1\u001b[1;33m \u001b[0mXd\u001b[0m \u001b[1;33m=\u001b[0m \u001b[0mXd\u001b[0m\u001b[1;33m.\u001b[0m\u001b[0mdrop\u001b[0m\u001b[1;33m(\u001b[0m\u001b[0mdropCol2\u001b[0m\u001b[1;33m,\u001b[0m \u001b[0maxis\u001b[0m\u001b[1;33m=\u001b[0m\u001b[1;36m1\u001b[0m\u001b[1;33m)\u001b[0m\u001b[1;33m\u001b[0m\u001b[1;33m\u001b[0m\u001b[0m\n\u001b[0m",
      "\u001b[1;32m~\\anaconda3\\lib\\site-packages\\pandas\\util\\_decorators.py\u001b[0m in \u001b[0;36mwrapper\u001b[1;34m(*args, **kwargs)\u001b[0m\n\u001b[0;32m    309\u001b[0m                     \u001b[0mstacklevel\u001b[0m\u001b[1;33m=\u001b[0m\u001b[0mstacklevel\u001b[0m\u001b[1;33m,\u001b[0m\u001b[1;33m\u001b[0m\u001b[1;33m\u001b[0m\u001b[0m\n\u001b[0;32m    310\u001b[0m                 )\n\u001b[1;32m--> 311\u001b[1;33m             \u001b[1;32mreturn\u001b[0m \u001b[0mfunc\u001b[0m\u001b[1;33m(\u001b[0m\u001b[1;33m*\u001b[0m\u001b[0margs\u001b[0m\u001b[1;33m,\u001b[0m \u001b[1;33m**\u001b[0m\u001b[0mkwargs\u001b[0m\u001b[1;33m)\u001b[0m\u001b[1;33m\u001b[0m\u001b[1;33m\u001b[0m\u001b[0m\n\u001b[0m\u001b[0;32m    312\u001b[0m \u001b[1;33m\u001b[0m\u001b[0m\n\u001b[0;32m    313\u001b[0m         \u001b[1;32mreturn\u001b[0m \u001b[0mwrapper\u001b[0m\u001b[1;33m\u001b[0m\u001b[1;33m\u001b[0m\u001b[0m\n",
      "\u001b[1;32m~\\anaconda3\\lib\\site-packages\\pandas\\core\\frame.py\u001b[0m in \u001b[0;36mdrop\u001b[1;34m(self, labels, axis, index, columns, level, inplace, errors)\u001b[0m\n\u001b[0;32m   4904\u001b[0m                 \u001b[0mweight\u001b[0m  \u001b[1;36m1.0\u001b[0m     \u001b[1;36m0.8\u001b[0m\u001b[1;33m\u001b[0m\u001b[1;33m\u001b[0m\u001b[0m\n\u001b[0;32m   4905\u001b[0m         \"\"\"\n\u001b[1;32m-> 4906\u001b[1;33m         return super().drop(\n\u001b[0m\u001b[0;32m   4907\u001b[0m             \u001b[0mlabels\u001b[0m\u001b[1;33m=\u001b[0m\u001b[0mlabels\u001b[0m\u001b[1;33m,\u001b[0m\u001b[1;33m\u001b[0m\u001b[1;33m\u001b[0m\u001b[0m\n\u001b[0;32m   4908\u001b[0m             \u001b[0maxis\u001b[0m\u001b[1;33m=\u001b[0m\u001b[0maxis\u001b[0m\u001b[1;33m,\u001b[0m\u001b[1;33m\u001b[0m\u001b[1;33m\u001b[0m\u001b[0m\n",
      "\u001b[1;32m~\\anaconda3\\lib\\site-packages\\pandas\\core\\generic.py\u001b[0m in \u001b[0;36mdrop\u001b[1;34m(self, labels, axis, index, columns, level, inplace, errors)\u001b[0m\n\u001b[0;32m   4148\u001b[0m         \u001b[1;32mfor\u001b[0m \u001b[0maxis\u001b[0m\u001b[1;33m,\u001b[0m \u001b[0mlabels\u001b[0m \u001b[1;32min\u001b[0m \u001b[0maxes\u001b[0m\u001b[1;33m.\u001b[0m\u001b[0mitems\u001b[0m\u001b[1;33m(\u001b[0m\u001b[1;33m)\u001b[0m\u001b[1;33m:\u001b[0m\u001b[1;33m\u001b[0m\u001b[1;33m\u001b[0m\u001b[0m\n\u001b[0;32m   4149\u001b[0m             \u001b[1;32mif\u001b[0m \u001b[0mlabels\u001b[0m \u001b[1;32mis\u001b[0m \u001b[1;32mnot\u001b[0m \u001b[1;32mNone\u001b[0m\u001b[1;33m:\u001b[0m\u001b[1;33m\u001b[0m\u001b[1;33m\u001b[0m\u001b[0m\n\u001b[1;32m-> 4150\u001b[1;33m                 \u001b[0mobj\u001b[0m \u001b[1;33m=\u001b[0m \u001b[0mobj\u001b[0m\u001b[1;33m.\u001b[0m\u001b[0m_drop_axis\u001b[0m\u001b[1;33m(\u001b[0m\u001b[0mlabels\u001b[0m\u001b[1;33m,\u001b[0m \u001b[0maxis\u001b[0m\u001b[1;33m,\u001b[0m \u001b[0mlevel\u001b[0m\u001b[1;33m=\u001b[0m\u001b[0mlevel\u001b[0m\u001b[1;33m,\u001b[0m \u001b[0merrors\u001b[0m\u001b[1;33m=\u001b[0m\u001b[0merrors\u001b[0m\u001b[1;33m)\u001b[0m\u001b[1;33m\u001b[0m\u001b[1;33m\u001b[0m\u001b[0m\n\u001b[0m\u001b[0;32m   4151\u001b[0m \u001b[1;33m\u001b[0m\u001b[0m\n\u001b[0;32m   4152\u001b[0m         \u001b[1;32mif\u001b[0m \u001b[0minplace\u001b[0m\u001b[1;33m:\u001b[0m\u001b[1;33m\u001b[0m\u001b[1;33m\u001b[0m\u001b[0m\n",
      "\u001b[1;32m~\\anaconda3\\lib\\site-packages\\pandas\\core\\generic.py\u001b[0m in \u001b[0;36m_drop_axis\u001b[1;34m(self, labels, axis, level, errors)\u001b[0m\n\u001b[0;32m   4183\u001b[0m                 \u001b[0mnew_axis\u001b[0m \u001b[1;33m=\u001b[0m \u001b[0maxis\u001b[0m\u001b[1;33m.\u001b[0m\u001b[0mdrop\u001b[0m\u001b[1;33m(\u001b[0m\u001b[0mlabels\u001b[0m\u001b[1;33m,\u001b[0m \u001b[0mlevel\u001b[0m\u001b[1;33m=\u001b[0m\u001b[0mlevel\u001b[0m\u001b[1;33m,\u001b[0m \u001b[0merrors\u001b[0m\u001b[1;33m=\u001b[0m\u001b[0merrors\u001b[0m\u001b[1;33m)\u001b[0m\u001b[1;33m\u001b[0m\u001b[1;33m\u001b[0m\u001b[0m\n\u001b[0;32m   4184\u001b[0m             \u001b[1;32melse\u001b[0m\u001b[1;33m:\u001b[0m\u001b[1;33m\u001b[0m\u001b[1;33m\u001b[0m\u001b[0m\n\u001b[1;32m-> 4185\u001b[1;33m                 \u001b[0mnew_axis\u001b[0m \u001b[1;33m=\u001b[0m \u001b[0maxis\u001b[0m\u001b[1;33m.\u001b[0m\u001b[0mdrop\u001b[0m\u001b[1;33m(\u001b[0m\u001b[0mlabels\u001b[0m\u001b[1;33m,\u001b[0m \u001b[0merrors\u001b[0m\u001b[1;33m=\u001b[0m\u001b[0merrors\u001b[0m\u001b[1;33m)\u001b[0m\u001b[1;33m\u001b[0m\u001b[1;33m\u001b[0m\u001b[0m\n\u001b[0m\u001b[0;32m   4186\u001b[0m             \u001b[0mresult\u001b[0m \u001b[1;33m=\u001b[0m \u001b[0mself\u001b[0m\u001b[1;33m.\u001b[0m\u001b[0mreindex\u001b[0m\u001b[1;33m(\u001b[0m\u001b[1;33m**\u001b[0m\u001b[1;33m{\u001b[0m\u001b[0maxis_name\u001b[0m\u001b[1;33m:\u001b[0m \u001b[0mnew_axis\u001b[0m\u001b[1;33m}\u001b[0m\u001b[1;33m)\u001b[0m\u001b[1;33m\u001b[0m\u001b[1;33m\u001b[0m\u001b[0m\n\u001b[0;32m   4187\u001b[0m \u001b[1;33m\u001b[0m\u001b[0m\n",
      "\u001b[1;32m~\\anaconda3\\lib\\site-packages\\pandas\\core\\indexes\\base.py\u001b[0m in \u001b[0;36mdrop\u001b[1;34m(self, labels, errors)\u001b[0m\n\u001b[0;32m   6015\u001b[0m         \u001b[1;32mif\u001b[0m \u001b[0mmask\u001b[0m\u001b[1;33m.\u001b[0m\u001b[0many\u001b[0m\u001b[1;33m(\u001b[0m\u001b[1;33m)\u001b[0m\u001b[1;33m:\u001b[0m\u001b[1;33m\u001b[0m\u001b[1;33m\u001b[0m\u001b[0m\n\u001b[0;32m   6016\u001b[0m             \u001b[1;32mif\u001b[0m \u001b[0merrors\u001b[0m \u001b[1;33m!=\u001b[0m \u001b[1;34m\"ignore\"\u001b[0m\u001b[1;33m:\u001b[0m\u001b[1;33m\u001b[0m\u001b[1;33m\u001b[0m\u001b[0m\n\u001b[1;32m-> 6017\u001b[1;33m                 \u001b[1;32mraise\u001b[0m \u001b[0mKeyError\u001b[0m\u001b[1;33m(\u001b[0m\u001b[1;34mf\"{labels[mask]} not found in axis\"\u001b[0m\u001b[1;33m)\u001b[0m\u001b[1;33m\u001b[0m\u001b[1;33m\u001b[0m\u001b[0m\n\u001b[0m\u001b[0;32m   6018\u001b[0m             \u001b[0mindexer\u001b[0m \u001b[1;33m=\u001b[0m \u001b[0mindexer\u001b[0m\u001b[1;33m[\u001b[0m\u001b[1;33m~\u001b[0m\u001b[0mmask\u001b[0m\u001b[1;33m]\u001b[0m\u001b[1;33m\u001b[0m\u001b[1;33m\u001b[0m\u001b[0m\n\u001b[0;32m   6019\u001b[0m         \u001b[1;32mreturn\u001b[0m \u001b[0mself\u001b[0m\u001b[1;33m.\u001b[0m\u001b[0mdelete\u001b[0m\u001b[1;33m(\u001b[0m\u001b[0mindexer\u001b[0m\u001b[1;33m)\u001b[0m\u001b[1;33m\u001b[0m\u001b[1;33m\u001b[0m\u001b[0m\n",
      "\u001b[1;31mKeyError\u001b[0m: \"['hh_ids' 'account_ids' 'm_ids_owner' 'm_ids_trx'] not found in axis\""
     ]
    }
   ],
   "source": [
    "Xd = Xd.drop(dropCol2, axis=1)"
   ]
  },
  {
   "cell_type": "code",
   "execution_count": 28,
   "metadata": {},
   "outputs": [],
   "source": [
    "#imputer\n",
    "from sklearn.impute import KNNImputer"
   ]
  },
  {
   "cell_type": "code",
   "execution_count": 29,
   "metadata": {},
   "outputs": [],
   "source": [
    "imputer = KNNImputer(n_neighbors=5) # perhaps reduce n_neighbours?"
   ]
  },
  {
   "cell_type": "code",
   "execution_count": 30,
   "metadata": {},
   "outputs": [
    {
     "ename": "KeyboardInterrupt",
     "evalue": "",
     "output_type": "error",
     "traceback": [
      "\u001b[1;31m---------------------------------------------------------------------------\u001b[0m",
      "\u001b[1;31mKeyboardInterrupt\u001b[0m                         Traceback (most recent call last)",
      "\u001b[1;32m~\\AppData\\Local\\Temp/ipykernel_15304/2504368693.py\u001b[0m in \u001b[0;36m<module>\u001b[1;34m\u001b[0m\n\u001b[1;32m----> 1\u001b[1;33m \u001b[0mXimp\u001b[0m \u001b[1;33m=\u001b[0m \u001b[0mimputer\u001b[0m\u001b[1;33m.\u001b[0m\u001b[0mfit_transform\u001b[0m\u001b[1;33m(\u001b[0m\u001b[0mXd\u001b[0m\u001b[1;33m)\u001b[0m\u001b[1;33m\u001b[0m\u001b[1;33m\u001b[0m\u001b[0m\n\u001b[0m",
      "\u001b[1;32m~\\anaconda3\\lib\\site-packages\\sklearn\\base.py\u001b[0m in \u001b[0;36mfit_transform\u001b[1;34m(self, X, y, **fit_params)\u001b[0m\n\u001b[0;32m    850\u001b[0m         \u001b[1;32mif\u001b[0m \u001b[0my\u001b[0m \u001b[1;32mis\u001b[0m \u001b[1;32mNone\u001b[0m\u001b[1;33m:\u001b[0m\u001b[1;33m\u001b[0m\u001b[1;33m\u001b[0m\u001b[0m\n\u001b[0;32m    851\u001b[0m             \u001b[1;31m# fit method of arity 1 (unsupervised transformation)\u001b[0m\u001b[1;33m\u001b[0m\u001b[1;33m\u001b[0m\u001b[0m\n\u001b[1;32m--> 852\u001b[1;33m             \u001b[1;32mreturn\u001b[0m \u001b[0mself\u001b[0m\u001b[1;33m.\u001b[0m\u001b[0mfit\u001b[0m\u001b[1;33m(\u001b[0m\u001b[0mX\u001b[0m\u001b[1;33m,\u001b[0m \u001b[1;33m**\u001b[0m\u001b[0mfit_params\u001b[0m\u001b[1;33m)\u001b[0m\u001b[1;33m.\u001b[0m\u001b[0mtransform\u001b[0m\u001b[1;33m(\u001b[0m\u001b[0mX\u001b[0m\u001b[1;33m)\u001b[0m\u001b[1;33m\u001b[0m\u001b[1;33m\u001b[0m\u001b[0m\n\u001b[0m\u001b[0;32m    853\u001b[0m         \u001b[1;32melse\u001b[0m\u001b[1;33m:\u001b[0m\u001b[1;33m\u001b[0m\u001b[1;33m\u001b[0m\u001b[0m\n\u001b[0;32m    854\u001b[0m             \u001b[1;31m# fit method of arity 2 (supervised transformation)\u001b[0m\u001b[1;33m\u001b[0m\u001b[1;33m\u001b[0m\u001b[0m\n",
      "\u001b[1;32m~\\anaconda3\\lib\\site-packages\\sklearn\\impute\\_knn.py\u001b[0m in \u001b[0;36mtransform\u001b[1;34m(self, X)\u001b[0m\n\u001b[0;32m    334\u001b[0m             \u001b[0mreduce_func\u001b[0m\u001b[1;33m=\u001b[0m\u001b[0mprocess_chunk\u001b[0m\u001b[1;33m,\u001b[0m\u001b[1;33m\u001b[0m\u001b[1;33m\u001b[0m\u001b[0m\n\u001b[0;32m    335\u001b[0m         )\n\u001b[1;32m--> 336\u001b[1;33m         \u001b[1;32mfor\u001b[0m \u001b[0mchunk\u001b[0m \u001b[1;32min\u001b[0m \u001b[0mgen\u001b[0m\u001b[1;33m:\u001b[0m\u001b[1;33m\u001b[0m\u001b[1;33m\u001b[0m\u001b[0m\n\u001b[0m\u001b[0;32m    337\u001b[0m             \u001b[1;31m# process_chunk modifies X in place. No return value.\u001b[0m\u001b[1;33m\u001b[0m\u001b[1;33m\u001b[0m\u001b[0m\n\u001b[0;32m    338\u001b[0m             \u001b[1;32mpass\u001b[0m\u001b[1;33m\u001b[0m\u001b[1;33m\u001b[0m\u001b[0m\n",
      "\u001b[1;32m~\\anaconda3\\lib\\site-packages\\sklearn\\metrics\\pairwise.py\u001b[0m in \u001b[0;36mpairwise_distances_chunked\u001b[1;34m(X, Y, reduce_func, metric, n_jobs, working_memory, **kwds)\u001b[0m\n\u001b[0;32m   1715\u001b[0m         \u001b[1;32melse\u001b[0m\u001b[1;33m:\u001b[0m\u001b[1;33m\u001b[0m\u001b[1;33m\u001b[0m\u001b[0m\n\u001b[0;32m   1716\u001b[0m             \u001b[0mX_chunk\u001b[0m \u001b[1;33m=\u001b[0m \u001b[0mX\u001b[0m\u001b[1;33m[\u001b[0m\u001b[0msl\u001b[0m\u001b[1;33m]\u001b[0m\u001b[1;33m\u001b[0m\u001b[1;33m\u001b[0m\u001b[0m\n\u001b[1;32m-> 1717\u001b[1;33m         \u001b[0mD_chunk\u001b[0m \u001b[1;33m=\u001b[0m \u001b[0mpairwise_distances\u001b[0m\u001b[1;33m(\u001b[0m\u001b[0mX_chunk\u001b[0m\u001b[1;33m,\u001b[0m \u001b[0mY\u001b[0m\u001b[1;33m,\u001b[0m \u001b[0mmetric\u001b[0m\u001b[1;33m=\u001b[0m\u001b[0mmetric\u001b[0m\u001b[1;33m,\u001b[0m \u001b[0mn_jobs\u001b[0m\u001b[1;33m=\u001b[0m\u001b[0mn_jobs\u001b[0m\u001b[1;33m,\u001b[0m \u001b[1;33m**\u001b[0m\u001b[0mkwds\u001b[0m\u001b[1;33m)\u001b[0m\u001b[1;33m\u001b[0m\u001b[1;33m\u001b[0m\u001b[0m\n\u001b[0m\u001b[0;32m   1718\u001b[0m         if (X is Y or Y is None) and PAIRWISE_DISTANCE_FUNCTIONS.get(\n\u001b[0;32m   1719\u001b[0m             \u001b[0mmetric\u001b[0m\u001b[1;33m,\u001b[0m \u001b[1;32mNone\u001b[0m\u001b[1;33m\u001b[0m\u001b[1;33m\u001b[0m\u001b[0m\n",
      "\u001b[1;32m~\\anaconda3\\lib\\site-packages\\sklearn\\metrics\\pairwise.py\u001b[0m in \u001b[0;36mpairwise_distances\u001b[1;34m(X, Y, metric, n_jobs, force_all_finite, **kwds)\u001b[0m\n\u001b[0;32m   1887\u001b[0m         \u001b[0mfunc\u001b[0m \u001b[1;33m=\u001b[0m \u001b[0mpartial\u001b[0m\u001b[1;33m(\u001b[0m\u001b[0mdistance\u001b[0m\u001b[1;33m.\u001b[0m\u001b[0mcdist\u001b[0m\u001b[1;33m,\u001b[0m \u001b[0mmetric\u001b[0m\u001b[1;33m=\u001b[0m\u001b[0mmetric\u001b[0m\u001b[1;33m,\u001b[0m \u001b[1;33m**\u001b[0m\u001b[0mkwds\u001b[0m\u001b[1;33m)\u001b[0m\u001b[1;33m\u001b[0m\u001b[1;33m\u001b[0m\u001b[0m\n\u001b[0;32m   1888\u001b[0m \u001b[1;33m\u001b[0m\u001b[0m\n\u001b[1;32m-> 1889\u001b[1;33m     \u001b[1;32mreturn\u001b[0m \u001b[0m_parallel_pairwise\u001b[0m\u001b[1;33m(\u001b[0m\u001b[0mX\u001b[0m\u001b[1;33m,\u001b[0m \u001b[0mY\u001b[0m\u001b[1;33m,\u001b[0m \u001b[0mfunc\u001b[0m\u001b[1;33m,\u001b[0m \u001b[0mn_jobs\u001b[0m\u001b[1;33m,\u001b[0m \u001b[1;33m**\u001b[0m\u001b[0mkwds\u001b[0m\u001b[1;33m)\u001b[0m\u001b[1;33m\u001b[0m\u001b[1;33m\u001b[0m\u001b[0m\n\u001b[0m\u001b[0;32m   1890\u001b[0m \u001b[1;33m\u001b[0m\u001b[0m\n\u001b[0;32m   1891\u001b[0m \u001b[1;33m\u001b[0m\u001b[0m\n",
      "\u001b[1;32m~\\anaconda3\\lib\\site-packages\\sklearn\\metrics\\pairwise.py\u001b[0m in \u001b[0;36m_parallel_pairwise\u001b[1;34m(X, Y, func, n_jobs, **kwds)\u001b[0m\n\u001b[0;32m   1428\u001b[0m \u001b[1;33m\u001b[0m\u001b[0m\n\u001b[0;32m   1429\u001b[0m     \u001b[1;32mif\u001b[0m \u001b[0meffective_n_jobs\u001b[0m\u001b[1;33m(\u001b[0m\u001b[0mn_jobs\u001b[0m\u001b[1;33m)\u001b[0m \u001b[1;33m==\u001b[0m \u001b[1;36m1\u001b[0m\u001b[1;33m:\u001b[0m\u001b[1;33m\u001b[0m\u001b[1;33m\u001b[0m\u001b[0m\n\u001b[1;32m-> 1430\u001b[1;33m         \u001b[1;32mreturn\u001b[0m \u001b[0mfunc\u001b[0m\u001b[1;33m(\u001b[0m\u001b[0mX\u001b[0m\u001b[1;33m,\u001b[0m \u001b[0mY\u001b[0m\u001b[1;33m,\u001b[0m \u001b[1;33m**\u001b[0m\u001b[0mkwds\u001b[0m\u001b[1;33m)\u001b[0m\u001b[1;33m\u001b[0m\u001b[1;33m\u001b[0m\u001b[0m\n\u001b[0m\u001b[0;32m   1431\u001b[0m \u001b[1;33m\u001b[0m\u001b[0m\n\u001b[0;32m   1432\u001b[0m     \u001b[1;31m# enforce a threading backend to prevent data communication overhead\u001b[0m\u001b[1;33m\u001b[0m\u001b[1;33m\u001b[0m\u001b[0m\n",
      "\u001b[1;32m~\\anaconda3\\lib\\site-packages\\sklearn\\metrics\\pairwise.py\u001b[0m in \u001b[0;36mnan_euclidean_distances\u001b[1;34m(X, Y, squared, missing_values, copy)\u001b[0m\n\u001b[0;32m    486\u001b[0m     \u001b[0mpresent_X\u001b[0m \u001b[1;33m=\u001b[0m \u001b[1;36m1\u001b[0m \u001b[1;33m-\u001b[0m \u001b[0mmissing_X\u001b[0m\u001b[1;33m\u001b[0m\u001b[1;33m\u001b[0m\u001b[0m\n\u001b[0;32m    487\u001b[0m     \u001b[0mpresent_Y\u001b[0m \u001b[1;33m=\u001b[0m \u001b[0mpresent_X\u001b[0m \u001b[1;32mif\u001b[0m \u001b[0mY\u001b[0m \u001b[1;32mis\u001b[0m \u001b[0mX\u001b[0m \u001b[1;32melse\u001b[0m \u001b[1;33m~\u001b[0m\u001b[0mmissing_Y\u001b[0m\u001b[1;33m\u001b[0m\u001b[1;33m\u001b[0m\u001b[0m\n\u001b[1;32m--> 488\u001b[1;33m     \u001b[0mpresent_count\u001b[0m \u001b[1;33m=\u001b[0m \u001b[0mnp\u001b[0m\u001b[1;33m.\u001b[0m\u001b[0mdot\u001b[0m\u001b[1;33m(\u001b[0m\u001b[0mpresent_X\u001b[0m\u001b[1;33m,\u001b[0m \u001b[0mpresent_Y\u001b[0m\u001b[1;33m.\u001b[0m\u001b[0mT\u001b[0m\u001b[1;33m)\u001b[0m\u001b[1;33m\u001b[0m\u001b[1;33m\u001b[0m\u001b[0m\n\u001b[0m\u001b[0;32m    489\u001b[0m     \u001b[0mdistances\u001b[0m\u001b[1;33m[\u001b[0m\u001b[0mpresent_count\u001b[0m \u001b[1;33m==\u001b[0m \u001b[1;36m0\u001b[0m\u001b[1;33m]\u001b[0m \u001b[1;33m=\u001b[0m \u001b[0mnp\u001b[0m\u001b[1;33m.\u001b[0m\u001b[0mnan\u001b[0m\u001b[1;33m\u001b[0m\u001b[1;33m\u001b[0m\u001b[0m\n\u001b[0;32m    490\u001b[0m     \u001b[1;31m# avoid divide by zero\u001b[0m\u001b[1;33m\u001b[0m\u001b[1;33m\u001b[0m\u001b[0m\n",
      "\u001b[1;32m<__array_function__ internals>\u001b[0m in \u001b[0;36mdot\u001b[1;34m(*args, **kwargs)\u001b[0m\n",
      "\u001b[1;31mKeyboardInterrupt\u001b[0m: "
     ]
    }
   ],
   "source": [
    "# Taking too long as of now. May run later\n",
    "# Have used simple imputing based on means for now\n",
    "Ximp = imputer.fit_transform(Xd)"
   ]
  },
  {
   "cell_type": "code",
   "execution_count": null,
   "metadata": {},
   "outputs": [],
   "source": [
    "# sklearn imputer is reducing number of columns for some reason. \n",
    "# Perhaps it is removing columns that are completely Nan, or if it has values it can't decode\n",
    "# Anyway, I am using the pandas way of doing it instead\n",
    "\n",
    "Ximp = Xd.fillna(Xd.mean())"
   ]
  },
  {
   "cell_type": "code",
   "execution_count": 42,
   "metadata": {},
   "outputs": [],
   "source": [
    "os.makedirs('clean_data', exist_ok=True)  # make dataset available as csv for machine learning preprocessing\n",
    "compression_opts = dict(method='zip',\n",
    "                        archive_name='XoheImp.csv')\n",
    "Ximp.to_csv('clean_data/XoheImp.zip', index=False,\n",
    "          compression=compression_opts) "
   ]
  },
  {
   "cell_type": "code",
   "execution_count": 30,
   "metadata": {
    "id": "1wsl_K-27cVt"
   },
   "outputs": [],
   "source": [
    "with open(\"depVar\", 'wb') as ofile:\n",
    "    pickle.dump(Y, ofile)"
   ]
  },
  {
   "cell_type": "code",
   "execution_count": 43,
   "metadata": {},
   "outputs": [],
   "source": [
    "os.makedirs('clean_data', exist_ok=True)  # make dataset available as csv for machine learning preprocessing\n",
    "compression_opts = dict(method='zip',\n",
    "                        archive_name='Y.csv')\n",
    "Y.to_csv('clean_data/Y.zip', index=False,\n",
    "          compression=compression_opts) "
   ]
  },
  {
   "cell_type": "code",
   "execution_count": null,
   "metadata": {},
   "outputs": [],
   "source": []
  }
 ],
 "metadata": {
  "colab": {
   "authorship_tag": "ABX9TyPaDRHk01PnCc6Cuzov8WIe",
   "collapsed_sections": [],
   "name": "treeRandomForest.ipynb",
   "provenance": []
  },
  "kernelspec": {
   "display_name": "Python 3 (ipykernel)",
   "language": "python",
   "name": "python3"
  },
  "language_info": {
   "codemirror_mode": {
    "name": "ipython",
    "version": 3
   },
   "file_extension": ".py",
   "mimetype": "text/x-python",
   "name": "python",
   "nbconvert_exporter": "python",
   "pygments_lexer": "ipython3",
   "version": "3.9.7"
  }
 },
 "nbformat": 4,
 "nbformat_minor": 1
}
