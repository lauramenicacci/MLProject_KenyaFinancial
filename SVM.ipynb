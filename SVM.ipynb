{
  "nbformat": 4,
  "nbformat_minor": 0,
  "metadata": {
    "colab": {
      "name": "SVM.ipynb",
      "provenance": []
    },
    "kernelspec": {
      "name": "python3",
      "display_name": "Python 3"
    },
    "language_info": {
      "name": "python"
    }
  },
  "cells": [
    {
      "cell_type": "markdown",
      "source": [
        "Setup"
      ],
      "metadata": {
        "id": "BYcXn10a719S"
      }
    },
    {
      "cell_type": "code",
      "execution_count": null,
      "metadata": {
        "id": "MdRG5rpt6CfZ"
      },
      "outputs": [],
      "source": [
        "# !pip install SVC \n",
        "import numpy as np\n",
        "import pandas as pd\n",
        "from sklearn.svm import SVC\n",
        "from sklearn import preprocessing\n",
        "from sklearn import metrics\n",
        "from sklearn.pipeline import Pipeline\n",
        "from sklearn.preprocessing import StandardScaler\n",
        "from sklearn.svm import LinearSVC"
      ]
    },
    {
      "cell_type": "code",
      "source": [
        "import pickle "
      ],
      "metadata": {
        "id": "AFiNX9N179Qx"
      },
      "execution_count": null,
      "outputs": []
    },
    {
      "cell_type": "code",
      "source": [
        "from google.colab import drive\n",
        "drive.mount('/content/drive')\n",
        "\n",
        "%cd /content/drive/MyDrive/MLProject_KenyaFinancial\n",
        "\n",
        "# /content/drive/MyDrive/GRAD-C24_Machine_Learning/MLProject_KenyaFinancial/ mypath"
      ],
      "metadata": {
        "colab": {
          "base_uri": "https://localhost:8080/"
        },
        "id": "1y6KbIrR792E",
        "outputId": "cc30d651-f457-4530-a2c7-16d23821e2c7"
      },
      "execution_count": null,
      "outputs": [
        {
          "output_type": "stream",
          "name": "stdout",
          "text": [
            "Mounted at /content/drive\n",
            "[Errno 2] No such file or directory: '/content/drive/MyDrive/MLProject_KenyaFinancial'\n",
            "/content\n"
          ]
        }
      ]
    },
    {
      "cell_type": "code",
      "source": [
        "x_path = \"/content/drive/MyDrive/GRAD-C24_Machine_Learning/MLProject_KenyaFinancial/clean_data/XoheImp.csv\" \n",
        "y_path = \"/content/drive/MyDrive/GRAD-C24_Machine_Learning/MLProject_KenyaFinancial/clean_data/Y.csv\""
      ],
      "metadata": {
        "id": "9zxHV6rJ8DD4"
      },
      "execution_count": null,
      "outputs": []
    },
    {
      "cell_type": "code",
      "source": [
        "#Set X and y values\n",
        "X = pd.read_csv(x_path)\n",
        "y = pd.read_csv(y_path)"
      ],
      "metadata": {
        "id": "d_a2kgyFQOrb"
      },
      "execution_count": null,
      "outputs": []
    },
    {
      "cell_type": "code",
      "source": [
        "# split train and test\n",
        "from sklearn.model_selection import train_test_split\n",
        "X_train, X_val, y_train, y_val = train_test_split(X, y, test_size = 0.2, random_state = 42, stratify = y)"
      ],
      "metadata": {
        "id": "73wHSSDi9vwk"
      },
      "execution_count": null,
      "outputs": []
    },
    {
      "cell_type": "code",
      "source": [
        "# SVM Classifier model\n",
        "from sklearn.linear_model import SGDClassifier\n",
        "from sklearn.preprocessing import StandardScaler\n",
        "from sklearn.pipeline import make_pipeline\n",
        "\n",
        "clf = make_pipeline(StandardScaler(),\n",
        "                    SGDClassifier(loss = 'modified_huber', verbose = 3, max_iter = 1000, tol=1e-3))"
      ],
      "metadata": {
        "id": "hkIfviFIEegB"
      },
      "execution_count": null,
      "outputs": []
    },
    {
      "cell_type": "code",
      "source": [
        "clf.fit(X_train, y_train)"
      ],
      "metadata": {
        "id": "Uaeug-FOhWdf"
      },
      "execution_count": null,
      "outputs": []
    },
    {
      "cell_type": "code",
      "source": [
        "YpredVal = clf.predict(X_val)"
      ],
      "metadata": {
        "id": "_zUhjvTrjTGz"
      },
      "execution_count": null,
      "outputs": []
    },
    {
      "cell_type": "code",
      "source": [
        "YpredProb = clf.predict_proba(X_val)"
      ],
      "metadata": {
        "id": "CvWIYV7ijqik"
      },
      "execution_count": null,
      "outputs": []
    },
    {
      "cell_type": "code",
      "source": [
        "print(\"Accuracy:\",metrics.accuracy_score(y_val, YpredVal))\n",
        "print(\"F1:\",metrics.f1_score(y_val, YpredVal, average=\"weighted\"))\n",
        "print(\"Matthew's Correlation Coefficient:\",metrics.matthews_corrcoef(y_val, YpredVal))"
      ],
      "metadata": {
        "colab": {
          "base_uri": "https://localhost:8080/"
        },
        "id": "lIhOfpWYjf6Y",
        "outputId": "34a9dc99-728a-4a13-ada6-001e477e1a11"
      },
      "execution_count": null,
      "outputs": [
        {
          "output_type": "stream",
          "name": "stdout",
          "text": [
            "Accuracy: 0.945081501793455\n",
            "F1: 0.9402308715030449\n",
            "Matthew's Correlation Coefficient: 0.7418009486770805\n"
          ]
        }
      ]
    },
    {
      "cell_type": "code",
      "source": [
        "from sklearn import preprocessing\n",
        "le = preprocessing.LabelEncoder()\n",
        "\n",
        "le.fit(y)\n",
        "y_val_le = le.transform(y_val)\n",
        "\n",
        "print(\"ROC_AUC:\", metrics.roc_auc_score(y_val_le, YpredProb, multi_class = 'ovr', average = 'macro'))"
      ],
      "metadata": {
        "colab": {
          "base_uri": "https://localhost:8080/"
        },
        "id": "pYyaEIrwyzW_",
        "outputId": "dbe9e848-234c-4deb-b3ad-891d7a92504f"
      },
      "execution_count": null,
      "outputs": [
        {
          "output_type": "stream",
          "name": "stderr",
          "text": [
            "/usr/local/lib/python3.7/dist-packages/sklearn/preprocessing/_label.py:98: DataConversionWarning: A column-vector y was passed when a 1d array was expected. Please change the shape of y to (n_samples, ), for example using ravel().\n",
            "  y = column_or_1d(y, warn=True)\n",
            "/usr/local/lib/python3.7/dist-packages/sklearn/preprocessing/_label.py:133: DataConversionWarning: A column-vector y was passed when a 1d array was expected. Please change the shape of y to (n_samples, ), for example using ravel().\n",
            "  y = column_or_1d(y, warn=True)\n"
          ]
        },
        {
          "output_type": "stream",
          "name": "stdout",
          "text": [
            "ROC_AUC: 0.7200345550821727\n"
          ]
        }
      ]
    },
    {
      "cell_type": "code",
      "source": [
        "with open('SVM', 'wb') as files:\n",
        "    pickle.dump(clf, files)"
      ],
      "metadata": {
        "id": "4MDTxej2DTcT"
      },
      "execution_count": null,
      "outputs": []
    }
  ]
}