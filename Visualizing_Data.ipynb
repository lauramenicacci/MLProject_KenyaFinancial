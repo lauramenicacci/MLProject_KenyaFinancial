{
  "nbformat": 4,
  "nbformat_minor": 0,
  "metadata": {
    "colab": {
      "name": "Visualizing_Data.ipynb",
      "provenance": [],
      "authorship_tag": "ABX9TyPL555tCOq76HdXBVHHgRm3",
      "include_colab_link": true
    },
    "kernelspec": {
      "name": "python3",
      "display_name": "Python 3"
    },
    "language_info": {
      "name": "python"
    }
  },
  "cells": [
    {
      "cell_type": "markdown",
      "metadata": {
        "id": "view-in-github",
        "colab_type": "text"
      },
      "source": [
        "<a href=\"https://colab.research.google.com/github/lauramenicacci/MLProject_KenyaFinancial/blob/main/Visualizing_Data.ipynb\" target=\"_parent\"><img src=\"https://colab.research.google.com/assets/colab-badge.svg\" alt=\"Open In Colab\"/></a>"
      ]
    },
    {
      "cell_type": "code",
      "execution_count": 26,
      "metadata": {
        "id": "anrpyPkngXa7"
      },
      "outputs": [],
      "source": [
        "import pandas as pd\n",
        "import os"
      ]
    },
    {
      "cell_type": "code",
      "source": [
        "from google.colab import drive\n",
        "drive.mount('/content/drive')\n",
        "%cd /content/drive/My Drive/MLProject_KenyaFinancial\n",
        "DATA_PATH = \"/content/drive/MyDrive/GRAD-C24_Machine_Learning/MLProject_KenyaFinancial/clean_data/official.zip\" #replace with your data path\n",
        "os.getcwd()"
      ],
      "metadata": {
        "colab": {
          "base_uri": "https://localhost:8080/",
          "height": 111
        },
        "id": "YuiYCZo7hH1N",
        "outputId": "747e6f30-f62c-41fd-9206-9f78aeedb0d6"
      },
      "execution_count": 27,
      "outputs": [
        {
          "output_type": "stream",
          "name": "stdout",
          "text": [
            "Drive already mounted at /content/drive; to attempt to forcibly remount, call drive.mount(\"/content/drive\", force_remount=True).\n",
            "[Errno 2] No such file or directory: '/content/drive/My Drive/MLProject_KenyaFinancial'\n",
            "/content\n"
          ]
        },
        {
          "output_type": "execute_result",
          "data": {
            "text/plain": [
              "'/content'"
            ],
            "application/vnd.google.colaboratory.intrinsic+json": {
              "type": "string"
            }
          },
          "metadata": {},
          "execution_count": 27
        }
      ]
    },
    {
      "cell_type": "code",
      "source": [
        "data = pd.read_csv(DATA_PATH)"
      ],
      "metadata": {
        "colab": {
          "base_uri": "https://localhost:8080/"
        },
        "id": "ftOtU_-yhxxA",
        "outputId": "053b90e6-3a81-4ea4-c223-aeabf931a560"
      },
      "execution_count": 28,
      "outputs": [
        {
          "output_type": "stream",
          "name": "stderr",
          "text": [
            "/usr/local/lib/python3.7/dist-packages/IPython/core/interactiveshell.py:2882: DtypeWarning: Columns (17,25,54,188,189,191,193,195,196,200) have mixed types.Specify dtype option on import or set low_memory=False.\n",
            "  exec(code_obj, self.user_global_ns, self.user_ns)\n"
          ]
        }
      ]
    },
    {
      "cell_type": "code",
      "source": [
        "import matplotlib.pyplot as plt\n",
        "import seaborn as sns"
      ],
      "metadata": {
        "id": "XLKPnJMajMBu"
      },
      "execution_count": 29,
      "outputs": []
    },
    {
      "cell_type": "code",
      "source": [
        "for col_name in data.columns: \n",
        "    print(col_name)"
      ],
      "metadata": {
        "colab": {
          "base_uri": "https://localhost:8080/"
        },
        "id": "zJOzDLmmkZjK",
        "outputId": "f27755a6-61b7-4035-c61d-b97cd26c65a7"
      },
      "execution_count": 23,
      "outputs": [
        {
          "output_type": "stream",
          "name": "stdout",
          "text": [
            "hh_ids\n",
            "unique_hhs\n",
            "first_trx_date_hh\n",
            "last_trx_date_hh\n",
            "tot_hh_daysofobs\n",
            "tot_hh_monthsofobs\n",
            "interview_designation\n",
            "int_date\n",
            "int_month\n",
            "int_year\n",
            "int_yr_mo\n",
            "first_int_date\n",
            "account_ids\n",
            "unique_accnts\n",
            "m_ids_owner\n",
            "unique_hm_owner\n",
            "account_bsheet_desig\n",
            "account_startclose_balance\n",
            "account_formal\n",
            "account_liquid\n",
            "first_trx_date_acc\n",
            "last_trx_date_acc\n",
            "tot_acc_daysofobs\n",
            "tot_acc_monthsofobs\n",
            "trx_id\n",
            "m_ids_trx\n",
            "trx_date\n",
            "trx_month\n",
            "trx_year\n",
            "trx_yr_mo\n",
            "trx_dq_round\n",
            "trx_stdtime_days_hh\n",
            "trx_stdtime_mnths_hh\n",
            "trx_stdtime_days_acc\n",
            "trx_stdtime_mnths_acc\n",
            "trx_class_code\n",
            "trx_class_desc\n",
            "trx_family_code\n",
            "trx_family_desc\n",
            "trx_type_code\n",
            "trx_type_desc\n",
            "trx_prx_purpose\n",
            "trx_prx_purpose_fd\n",
            "trx_fee\n",
            "trx_bsheet_direction\n",
            "trx_mode_code\n",
            "trx_mode_desc\n",
            "trx_place_incommunity\n",
            "trx_distance_km\n",
            "trx_outlet\n",
            "trx_direction\n",
            "trx_value_kes\n",
            "trx_value_usd\n",
            "ddd_gift\n",
            "trx_inkind_units\n",
            "trx_inkind_value_usd\n",
            "trx_inkind_value_kes\n",
            "trx_stdtime_mnths_hh_nr\n",
            "dem_urban\n",
            "dem_hh_size\n",
            "dem_hh_meanage\n",
            "dem_hh_ages0_4\n",
            "dem_hh_ages5_14\n",
            "dem_hh_ages15_17\n",
            "dem_hh_ages0_17\n",
            "dem_hh_ages15plus\n",
            "dem_hh_ages18plus\n",
            "dem_hh_ages65plus\n",
            "dem_hh_ages20_30\n",
            "dem_hh_workage\n",
            "dem_hh_dependents\n",
            "dem_hh_agehead\n",
            "dem_hh_malehead\n",
            "dem_pae_oecd\n",
            "dem_pae_kihbs\n",
            "con_prod_hh_medpti\n",
            "edu_hh_child613inschool\n",
            "edu_hh_child1417inschool\n",
            "edu_hh_girls613inschool\n",
            "edu_hh_girls1417inschool\n",
            "edu_hh_boys613inschool\n",
            "edu_hh_boys1417inschool\n",
            "edu_hh_headattain_yrs\n",
            "con_pur_hh_byti_x\n",
            "con_pur_hh_byti_ALC\n",
            "con_pur_hh_byti_CLN\n",
            "con_pur_hh_byti_CLTH\n",
            "con_pur_hh_byti_COMM\n",
            "con_pur_hh_byti_EDU\n",
            "con_pur_hh_byti_ENRGY\n",
            "con_pur_hh_byti_ENT\n",
            "con_pur_hh_byti_FOOD\n",
            "con_pur_hh_byti_H20\n",
            "con_pur_hh_byti_HSNG\n",
            "con_pur_hh_byti_MED\n",
            "con_pur_hh_byti_OTH\n",
            "con_pur_hh_byti_PERS\n",
            "con_pur_hh_byti_REL\n",
            "con_pur_hh_byti_TRNSP\n",
            "inc_hh_byti_x\n",
            "inc_hh_byti_AGRI\n",
            "inc_hh_byti_CITMPC\n",
            "inc_hh_byti_NEINCG\n",
            "inc_hh_byti_REI\n",
            "inc_hh_byti_RIOI\n",
            "inc_hh_byti_RR\n",
            "inc_hh_byti_SEI\n",
            "inc_hh_byti_y\n",
            "con_pur_hh_byti_y\n",
            "con_prod_hh_byti_x\n",
            "dem_urban_x\n",
            "dem_hh_size_x\n",
            "dem_pae_oecd_x\n",
            "dem_pae_kihbs_x\n",
            "con_hh_byti_x\n",
            "inc_hh_byti_pae_oecd_x\n",
            "con_hh_byti_pae_oecd_x\n",
            "inc_hh_byti_pae_kihbs_x\n",
            "con_hh_byti_pae_kihbs_x\n",
            "inc_below_1_usd_oecd_x\n",
            "con_below_1_usd_oecd_x\n",
            "inc_below_1_usd_kihbs_x\n",
            "con_below_1_usd_kihbs_x\n",
            "inc_below_2_usd_oecd_x\n",
            "con_below_2_usd_oecd_x\n",
            "inc_below_2_usd_kihbs_x\n",
            "con_below_2_usd_kihbs_x\n",
            "inc_below_5_usd_oecd_x\n",
            "con_below_5_usd_oecd_x\n",
            "inc_below_5_usd_kihbs_x\n",
            "con_below_5_usd_kihbs_x\n",
            "inc_hh_byti\n",
            "con_pur_hh_byti\n",
            "con_prod_hh_byti_y\n",
            "dem_urban_y\n",
            "dem_hh_size_y\n",
            "dem_pae_oecd_y\n",
            "dem_pae_kihbs_y\n",
            "con_hh_byti_y\n",
            "inc_hh_byti_pae_oecd_y\n",
            "con_hh_byti_pae_oecd_y\n",
            "inc_hh_byti_pae_kihbs_y\n",
            "con_hh_byti_pae_kihbs_y\n",
            "inc_below_1_usd_oecd_y\n",
            "con_below_1_usd_oecd_y\n",
            "inc_below_1_usd_kihbs_y\n",
            "con_below_1_usd_kihbs_y\n",
            "inc_below_2_usd_oecd_y\n",
            "con_below_2_usd_oecd_y\n",
            "inc_below_2_usd_kihbs_y\n",
            "con_below_2_usd_kihbs_y\n",
            "inc_below_5_usd_oecd_y\n",
            "con_below_5_usd_oecd_y\n",
            "inc_below_5_usd_kihbs_y\n",
            "con_below_5_usd_kihbs_y\n",
            "rem_hh_count_byti\n",
            "rem_hh_abs_byti\n",
            "rem_hh_net_byti\n",
            "rem_hh_count_byti_RG\n",
            "rem_hh_abs_byti_RG\n",
            "rem_hh_count_byti_RR\n",
            "rem_hh_abs_byti_RR\n",
            "rem_hh_count_byti_cash\n",
            "rem_hh_abs_byti_cash\n",
            "rem_hh_net_byti_cash\n",
            "rem_hh_count_byti_inkind\n",
            "rem_hh_abs_byti_inkind\n",
            "rem_hh_net_byti_inkind\n",
            "rem_hh_count_byti_mm\n",
            "rem_hh_abs_byti_mm\n",
            "rem_hh_net_byti_mm\n",
            "rem_hh_count_byti_other\n",
            "rem_hh_abs_byti_other\n",
            "rem_hh_net_byti_other\n",
            "m_ids\n",
            "wellbeing_q1\n",
            "wellbeing_q2\n",
            "wellbeing_q3\n",
            "wellbeing_q4\n",
            "goingson_q1\n",
            "goingson_q2\n",
            "goingson_q3\n",
            "goingson_q4\n",
            "goingson_q5\n",
            "goingson_q6\n",
            "goingson_q7\n",
            "goingson_q8\n",
            "goingson_q9\n",
            "goingson_q10\n",
            "dem_i_male\n",
            "dem_i_age_yrs\n",
            "dem_i_age_5yrgrp\n",
            "dem_i_age_workage\n",
            "dem_i_relhead\n",
            "dem_i_hhead\n",
            "dem_i_marstat\n",
            "dem_i_tribe\n",
            "dem_i_children_tot\n",
            "dem_i_children_inhh\n",
            "edu_i_enrolled\n",
            "edu_i_attain\n",
            "edu_i_attain_yrs\n"
          ]
        }
      ]
    },
    {
      "cell_type": "code",
      "source": [
        "plt.xlim(0, 20)\n",
        "\n",
        "plt.hist(data['trx_value_usd'], color = 'blue', edgecolor = 'black',\n",
        "         bins = int(10000))\n",
        "plt.title('Number of transactions by amount (USD)')\n",
        "plt.xlabel('Transaction amount (USD)')\n",
        "plt.ylabel('Number of transactions')"
      ],
      "metadata": {
        "colab": {
          "base_uri": "https://localhost:8080/",
          "height": 313
        },
        "id": "I3ZvvpCkj-dF",
        "outputId": "24ba8d0c-dccd-4ea9-a396-f2620277b057"
      },
      "execution_count": 56,
      "outputs": [
        {
          "output_type": "execute_result",
          "data": {
            "text/plain": [
              "Text(0, 0.5, 'Number of transactions')"
            ]
          },
          "metadata": {},
          "execution_count": 56
        },
        {
          "output_type": "display_data",
          "data": {
            "text/plain": [
              "<Figure size 432x288 with 1 Axes>"
            ],
            "image/png": "[encoded data removed]"
          },
          "metadata": {
            "needs_background": "light"
          }
        }
      ]
    },
    {
      "cell_type": "code",
      "source": [
        "plt.hist(data['trx_month'], color = 'green', edgecolor = 'black',\n",
        "         bins = 12)\n",
        "plt.title('Number of transactions by month')\n",
        "plt.xlabel('Month')\n",
        "plt.ylabel('Number of transactions')"
      ],
      "metadata": {
        "colab": {
          "base_uri": "https://localhost:8080/",
          "height": 313
        },
        "id": "GCKRXj2y53B2",
        "outputId": "77dcfad3-1b59-498b-a50d-74d270c2119a"
      },
      "execution_count": 61,
      "outputs": [
        {
          "output_type": "execute_result",
          "data": {
            "text/plain": [
              "Text(0, 0.5, 'Number of transactions')"
            ]
          },
          "metadata": {},
          "execution_count": 61
        },
        {
          "output_type": "display_data",
          "data": {
            "text/plain": [
              "<Figure size 432x288 with 1 Axes>"
            ],
            "image/png": "[encoded data removed]"
          },
          "metadata": {
            "needs_background": "light"
          }
        }
      ]
    },
    {
      "cell_type": "code",
      "source": [
        "plt.hist(data['dem_hh_size'], color = 'red', edgecolor = 'black',\n",
        "         bins = 25)\n",
        "plt.title('Number of households by household size')\n",
        "plt.xlabel('Number of people in household')\n",
        "plt.ylabel('Number of households')"
      ],
      "metadata": {
        "colab": {
          "base_uri": "https://localhost:8080/",
          "height": 313
        },
        "id": "Kb43Db9A7Js3",
        "outputId": "2698d664-b312-48a5-8a7b-fc618ea51405"
      },
      "execution_count": 67,
      "outputs": [
        {
          "output_type": "execute_result",
          "data": {
            "text/plain": [
              "Text(0, 0.5, 'Number of households')"
            ]
          },
          "metadata": {},
          "execution_count": 67
        },
        {
          "output_type": "display_data",
          "data": {
            "text/plain": [
              "<Figure size 432x288 with 1 Axes>"
            ],
            "image/png": "[encoded data removed]"
          },
          "metadata": {
            "needs_background": "light"
          }
        }
      ]
    }
  ]
}